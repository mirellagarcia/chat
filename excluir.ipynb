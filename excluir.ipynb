{
  "nbformat": 4,
  "nbformat_minor": 0,
  "metadata": {
    "colab": {
      "name": "python_mi.ipynb",
      "provenance": [],
      "authorship_tag": "ABX9TyOG/F8mptaU/b7GOAtVEyB7",
      "include_colab_link": true
    },
    "kernelspec": {
      "name": "python3",
      "display_name": "Python 3"
    },
    "language_info": {
      "name": "python"
    }
  },
  "cells": [
    {
      "cell_type": "markdown",
      "metadata": {
        "id": "view-in-github",
        "colab_type": "text"
      },
      "source": [
        "<a href=\"https://colab.research.google.com/github/mirellagarcia/chat/blob/main/python_mi.ipynb\" target=\"_parent\"><img src=\"https://colab.research.google.com/assets/colab-badge.svg\" alt=\"Open In Colab\"/></a>"
      ]
    },
    {
      "cell_type": "code",
      "metadata": {
        "id": "mBw5Vo3_ZlgB"
      },
      "source": [
        "#bibliotca para formatar data.\n",
        "import numpy as np\n",
        "import datetime\n",
        "#\n",
        "from collections import Counter\n",
        "#\n",
        "import collections\n",
        "#\n",
        "import pandas as pd\n",
        "#\n",
        "import matplotlib\n",
        "import matplotlib.pyplot as plt\n",
        "import seaborn as sns"
      ],
      "execution_count": 2,
      "outputs": []
    },
    {
      "cell_type": "code",
      "metadata": {
        "id": "ng4M3kRFZwjF"
      },
      "source": [
        "#Leitura e interpretação de arquivo\n",
        "ref_arquivo = open('GrupoBI.txt', \"r\", encoding='utf-8')\n",
        "linha = ref_arquivo.readline()\n",
        "\n",
        "list_datas = []\n",
        "list_erros_formatacao = []\n",
        "list_pessoas = []\n",
        "list_msgs = []\n",
        "\n",
        "while linha:\n",
        "    linha = ref_arquivo.readline()\n",
        "    try:\n",
        "      date_time_obj = datetime.datetime.strptime(linha[1:17], '%d/%m/%y %H:%M:%S')\n",
        "      list_datas.append(date_time_obj)\n",
        "      msg = linha[20:]\n",
        "      if(len(msg.split(':')) >= 2):\n",
        "            list_pessoas.append(msg.split(':')[0])\n",
        "            list_msgs.append(msg.split(':')[1])\n",
        "    except ValueError:\n",
        "      list_erros_formatacao.append('Falha na formatação')\n",
        "ref_arquivo.close()"
      ],
      "execution_count": 3,
      "outputs": []
    },
    {
      "cell_type": "code",
      "metadata": {
        "id": "VVrwJfbzQ17z",
        "colab": {
          "base_uri": "https://localhost:8080/",
          "height": 598
        },
        "outputId": "df90ae60-639c-48d5-bc40-78231498a37d"
      },
      "source": [
        "#Quem fala mais no grupo + rename dos contatos\n",
        "dict_pessoas = dict(Counter(list_pessoas))\n",
        "pessoas_df = pd.DataFrame(dict_pessoas.items(), columns=['Pessoa', 'Qnt Mensagem'])\n",
        "pessoas_df = pessoas_df.sort_values(by=['Qnt Mensagem'])\n",
        "pessoas_df['Pessoa'] = pessoas_df['Pessoa'].replace(['\\u202a+55\\xa011\\xa095765‑5550\\u202c','\\u202a+55\\xa081\\xa09957‑6999\\u202c','\\u202a+55\\xa011\\xa098793‑6843\\u202c','\\u202a+55\\xa011\\xa097301‑7387\\u202c','\\u202a+55\\xa013\\xa099785‑0435\\u202c','\\u202a+55\\xa011\\xa095980‑8745\\u202c','\\u202a+55\\xa011\\xa099122‑8956\\u202c'],['Andrey','Rosane','Laisla','Mirella','Lopes','Alexandre','Jean'])\n",
        "print(pessoas_df)\n",
        "pessoas_df.plot(kind='barh', x = 'Pessoa', y = 'Qnt Mensagem', figsize=(13,7), color=['#D4A29C', '#E8B298', '#EDCC8B', '#BDD1C5', '#9DAAA2'])"
      ],
      "execution_count": 6,
      "outputs": [
        {
          "output_type": "stream",
          "text": [
            "           Pessoa  Qnt Mensagem\n",
            "2            Jean            72\n",
            "3       Alexandre           117\n",
            "7           Lopes           127\n",
            "6  Igor Goncalves           174\n",
            "4         Mirella           242\n",
            "1          Laisla           322\n",
            "0          Rosane           379\n",
            "5          Andrey           688\n"
          ],
          "name": "stdout"
        },
        {
          "output_type": "execute_result",
          "data": {
            "text/plain": [
              "<matplotlib.axes._subplots.AxesSubplot at 0x7f127f30d690>"
            ]
          },
          "metadata": {
            "tags": []
          },
          "execution_count": 6
        },
        {
          "output_type": "display_data",
          "data": {
            "image/png": "[encoded data removed]",
            "text/plain": [
              "<Figure size 936x504 with 1 Axes>"
            ]
          },
          "metadata": {
            "tags": [],
            "needs_background": "light"
          }
        }
      ]
    },
    {
      "cell_type": "code",
      "metadata": {
        "colab": {
          "base_uri": "https://localhost:8080/",
          "height": 462
        },
        "id": "ftE6dT5_fMhr",
        "outputId": "df1ebd7a-0895-4ec2-fb49-e727df6b827a"
      },
      "source": [
        "#Palavra mais utilizada - Resposta 1\n",
        "palavras = []\n",
        "f = list_msgs\n",
        "for i in f:\n",
        "  i = i.split()\n",
        "  for a in i:\n",
        "    palavras.append(a)\n",
        "    if len(a) < 2:\n",
        "     palavras.remove(a)\n",
        "dict_palavras = dict(Counter(palavras).most_common(3))\n",
        "print('Palavras mais utilizadas :', dict_palavras)\n",
        "\n",
        "palavras_df = pd.DataFrame(dict_palavras.items(), columns=['Palavra', 'Quantidade'])\n",
        "palavras_df = palavras_df.sort_values(by=['Quantidade'])\n",
        "palavras_df.plot(kind='barh', x = 'Palavra', y = 'Quantidade', figsize=(13,7), color=['#D4A29C', '#E8B298', '#EDCC8B', '#BDD1C5', '#9DAAA2'])"
      ],
      "execution_count": 7,
      "outputs": [
        {
          "output_type": "stream",
          "text": [
            "Palavras mais utilizadas : {'que': 281, 'de': 272, 'não': 194}\n"
          ],
          "name": "stdout"
        },
        {
          "output_type": "execute_result",
          "data": {
            "text/plain": [
              "<matplotlib.axes._subplots.AxesSubplot at 0x7f127f347250>"
            ]
          },
          "metadata": {
            "tags": []
          },
          "execution_count": 7
        },
        {
          "output_type": "display_data",
          "data": {
            "image/png": "[encoded data removed]",
            "text/plain": [
              "<Figure size 936x504 with 1 Axes>"
            ]
          },
          "metadata": {
            "tags": [],
            "needs_background": "light"
          }
        }
      ]
    },
    {
      "cell_type": "code",
      "metadata": {
        "id": "woy2dgjEfrsJ"
      },
      "source": [
        "#Qual o dia da semana que mais troca mensagem - Resposta 2\n"
      ],
      "execution_count": null,
      "outputs": []
    }
  ]
}
